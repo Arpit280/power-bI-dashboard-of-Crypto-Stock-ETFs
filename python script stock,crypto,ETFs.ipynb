{
 "cells": [
  {
   "cell_type": "code",
   "execution_count": 7,
   "id": "91cd974f-1623-4149-93f3-375896ff0781",
   "metadata": {},
   "outputs": [],
   "source": [
    "import pandas as pd\n",
    "import time\n",
    "from datetime import datetime\n"
   ]
  },
  {
   "cell_type": "code",
   "execution_count": 9,
   "id": "f19fe60d-1575-49ea-bee7-0a20e66e52a6",
   "metadata": {},
   "outputs": [],
   "source": [
    "# Convert 'YYYY-MM-DD' to UNIX timestamp\n",
    "def date_to_unix(date_str):\n",
    "    return int(time.mktime(time.strptime(date_str, \"%Y-%m-%d\")))"
   ]
  },
  {
   "cell_type": "code",
   "execution_count": 11,
   "id": "4d0a73ad-fa6a-422a-8daf-bcd27f0291d7",
   "metadata": {},
   "outputs": [],
   "source": [
    "# Get the current date in 'YYYY-MM-DD' format\n",
    "current_date = datetime.now().strftime('%Y-%m-%d')"
   ]
  },
  {
   "cell_type": "code",
   "execution_count": 13,
   "id": "c53d191d-c7ad-456c-8f11-100b01524a41",
   "metadata": {},
   "outputs": [],
   "source": [
    "# Define the start date for the data\n",
    "start_date = '2023-07-01'  \n",
    "period1 = date_to_unix(start_date)\n",
    "period2 = date_to_unix(current_date)"
   ]
  },
  {
   "cell_type": "code",
   "execution_count": 17,
   "id": "11d25053-085b-468e-8bb2-9a975327b39d",
   "metadata": {},
   "outputs": [],
   "source": [
    "# Read the CSV file to get the list of stock symbols and their types\n",
    "file_path = 'C:\\\\Users\\\\arpit\\\\Music\\\\Source-20240901T123822Z-001\\\\Source\\\\trackers.csv'  \n",
    "symbols_df = pd.read_csv(file_path)\n",
    "trackers = symbols_df[['Symbol', 'Type']].to_dict(orient='records')"
   ]
  },
  {
   "cell_type": "code",
   "execution_count": null,
   "id": "f968bce9-e313-4781-9ffb-0aeb6a7dc7b4",
   "metadata": {},
   "outputs": [],
   "source": [
    "\n",
    "# Initialize a list to hold all data\n",
    "data_frames = []\n",
    "for tracker in trackers:\n",
    "    symbol = tracker['Symbol']\n",
    "    type_of_asset = tracker['Type']\n",
    "    \n",
    "    url = f'https://query1.finance.yahoo.com/v7/finance/download/{symbol}?period1={period1}&period2={period2}&interval=1d&events=history&includeAdjustedClose=true'\n",
    "    \n",
    "    try:\n",
    "        # Fetch data from Yahoo Finance\n",
    "        df = pd.read_csv(url)\n",
    "        df['Symbol'] = symbol  # Add a column for the stock symbol\n",
    "        df['Type'] = type_of_asset  # Add a column for the type (Stock or Crypto)\n",
    "        data_frames.append(df)  # Append the dataframe to the list\n",
    "        print(f\"Data for {symbol} downloaded successfully.\")\n",
    "    except Exception as e:\n",
    "        print(f\"Failed to download data for {symbol}: {e}\")"
   ]
  },
  {
   "cell_type": "code",
   "execution_count": null,
   "id": "13841880-1e2d-43e8-b525-676402542a49",
   "metadata": {},
   "outputs": [],
   "source": []
  }
 ],
 "metadata": {
  "kernelspec": {
   "display_name": "Python 3 (ipykernel)",
   "language": "python",
   "name": "python3"
  },
  "language_info": {
   "codemirror_mode": {
    "name": "ipython",
    "version": 3
   },
   "file_extension": ".py",
   "mimetype": "text/x-python",
   "name": "python",
   "nbconvert_exporter": "python",
   "pygments_lexer": "ipython3",
   "version": "3.12.4"
  }
 },
 "nbformat": 4,
 "nbformat_minor": 5
}
